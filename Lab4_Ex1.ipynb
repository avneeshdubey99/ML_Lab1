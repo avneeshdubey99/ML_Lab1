{
  "nbformat": 4,
  "nbformat_minor": 0,
  "metadata": {
    "colab": {
      "name": "Lab4-Ex1.ipynb",
      "provenance": [],
      "collapsed_sections": [],
      "include_colab_link": true
    },
    "kernelspec": {
      "name": "python3",
      "display_name": "Python 3"
    }
  },
  "cells": [
    {
      "cell_type": "markdown",
      "metadata": {
        "id": "view-in-github",
        "colab_type": "text"
      },
      "source": [
        "<a href=\"https://colab.research.google.com/github/avneeshdubey99/ML_Lab1/blob/master/Lab4_Ex1.ipynb\" target=\"_parent\"><img src=\"https://colab.research.google.com/assets/colab-badge.svg\" alt=\"Open In Colab\"/></a>"
      ]
    },
    {
      "cell_type": "code",
      "metadata": {
        "id": "TUPftbCltjFU",
        "colab_type": "code",
        "colab": {}
      },
      "source": [
        "import numpy as np  # useful for many scientific computing in Python\n",
        "import pandas as pd # primary data structure library\n",
        "\n",
        "df_can = pd.read_excel('https://s3-api.us-geo.objectstorage.softlayer.net/cf-courses-data/CognitiveClass/DV0101EN/labs/Data_Files/Canada.xlsx',\n",
        "                       sheet_name='Canada by Citizenship',\n",
        "                       skiprows=range(20),\n",
        "                       skipfooter=2\n",
        "                      )\n",
        "\n",
        "print('Data downloaded and read into a dataframe!')"
      ],
      "execution_count": null,
      "outputs": []
    },
    {
      "cell_type": "code",
      "metadata": {
        "id": "T2bq8sBLxItJ",
        "colab_type": "code",
        "colab": {}
      },
      "source": [
        "#dataset has immigration from each country to canada from 1980-2013 \n",
        "\n",
        "df_can.head()"
      ],
      "execution_count": null,
      "outputs": []
    },
    {
      "cell_type": "code",
      "metadata": {
        "id": "xCaelirYzIZl",
        "colab_type": "code",
        "colab": {}
      },
      "source": [
        "#dimensions of the dataset\n",
        "df_can.shape"
      ],
      "execution_count": null,
      "outputs": []
    },
    {
      "cell_type": "code",
      "metadata": {
        "id": "cr3Q7P9yzK1y",
        "colab_type": "code",
        "colab": {}
      },
      "source": [
        "df_can.drop(['AREA','REG','DEV','Coverage','Type'], axis='columns', inplace=True)\n",
        "\n",
        "df_can.rename(columns={'OdName':'Country','AreaName':'Continent','RegName':'Continent-region','DevName':'Development-status'}, inplace=True)\n",
        "\n",
        "\n",
        "df_can.set_index('Country', inplace=True)\n",
        "\n",
        "df_can['Total_count']=df_can.sum(axis='columns')\n",
        "\n",
        "years = range(1980,2014)\n",
        "\n"
      ],
      "execution_count": null,
      "outputs": []
    },
    {
      "cell_type": "code",
      "metadata": {
        "id": "hpumy5oIKsat",
        "colab_type": "code",
        "colab": {}
      },
      "source": [
        "# let's examine the types of the column labels\n",
        "all(isinstance(column, str) for column in df_can.columns)"
      ],
      "execution_count": null,
      "outputs": []
    },
    {
      "cell_type": "code",
      "metadata": {
        "id": "Y5CQSRYTKy2n",
        "colab_type": "code",
        "colab": {}
      },
      "source": [
        "df_can.columns = list(map(str, df_can.columns))\n",
        "\n",
        "\n",
        "# let's check the column labels types now\n",
        "all(isinstance(column, str) for column in df_can.columns)"
      ],
      "execution_count": null,
      "outputs": []
    },
    {
      "cell_type": "code",
      "metadata": {
        "id": "Cm105Blu5Bg6",
        "colab_type": "code",
        "colab": {}
      },
      "source": [
        "df_can.columns"
      ],
      "execution_count": null,
      "outputs": []
    },
    {
      "cell_type": "code",
      "metadata": {
        "id": "VeRA21dk4bFd",
        "colab_type": "code",
        "colab": {}
      },
      "source": [
        "df_can.dtypes"
      ],
      "execution_count": null,
      "outputs": []
    },
    {
      "cell_type": "code",
      "metadata": {
        "id": "P2awwgu14lAp",
        "colab_type": "code",
        "colab": {}
      },
      "source": [
        "#Lets start\n",
        "\n",
        "import matplotlib.pyplot as plt\n",
        "import matplotlib as mpl"
      ],
      "execution_count": null,
      "outputs": []
    },
    {
      "cell_type": "markdown",
      "metadata": {
        "id": "bvRuHvYNLioM",
        "colab_type": "text"
      },
      "source": [
        "**Group countries by continents and apply sum() function**\n"
      ]
    },
    {
      "cell_type": "markdown",
      "metadata": {
        "id": "i5OZD_cJL4s3",
        "colab_type": "text"
      },
      "source": [
        "note: the output of the groupby method is a `groupby' object. \n",
        "we can not use it further until we apply a function (eg .sum())\n"
      ]
    },
    {
      "cell_type": "code",
      "metadata": {
        "id": "BZGi7d4Q5Zs6",
        "colab_type": "code",
        "colab": {}
      },
      "source": [
        "df_continents = df_can.groupby('Continent', axis='index').sum()"
      ],
      "execution_count": null,
      "outputs": []
    },
    {
      "cell_type": "code",
      "metadata": {
        "id": "6EH2AV9w5uog",
        "colab_type": "code",
        "colab": {}
      },
      "source": [
        "df_continents.head()"
      ],
      "execution_count": null,
      "outputs": []
    },
    {
      "cell_type": "code",
      "metadata": {
        "id": "I8dDCJY3MG8-",
        "colab_type": "code",
        "colab": {}
      },
      "source": [
        "print(type(df_can.groupby('Continent', axis=0)))"
      ],
      "execution_count": null,
      "outputs": []
    },
    {
      "cell_type": "code",
      "metadata": {
        "id": "YkBVP2gF6D52",
        "colab_type": "code",
        "colab": {}
      },
      "source": [
        "#baseline pie chart\n",
        "\n",
        "df_continents['Total_count'].plot(\n",
        "    kind='pie',\n",
        "    figsize=(15,15)\n",
        ")"
      ],
      "execution_count": null,
      "outputs": []
    },
    {
      "cell_type": "markdown",
      "metadata": {
        "id": "M9p3WV5XOfA4",
        "colab_type": "text"
      },
      "source": [
        "**Q. By Continent-region pie-chart use colorlists, explode, pct, figsize, add title, add axes, add legend, remove labels and use shadows.**"
      ]
    },
    {
      "cell_type": "code",
      "metadata": {
        "id": "KlQ93KsM6V-U",
        "colab_type": "code",
        "colab": {}
      },
      "source": [
        "colors_list = ['gold', 'yellowgreen', 'lightcoral', 'lightskyblue', 'lightgreen', 'pink']\n",
        "explodelist = [0.1,0.2,0,0,0,0.1]\n",
        "\n",
        "df_continents['Total_count'].plot(\n",
        "    kind='pie',\n",
        "    figsize=(15,15),\n",
        "    startangle=90,\n",
        "    autopct='%1.1f%%',\n",
        "    shadow=True,\n",
        "    labels=None,\n",
        "    pctdistance=1.12, \n",
        "    colors=colors_list,\n",
        "    explode=explodelist\n",
        ")\n",
        "\n",
        "plt.title('Immigration from 1980-2013 by continents')\n",
        "plt.axis('equal') #pie chart looks like a circle\n",
        "plt.legend(labels=df_continents.index, loc='upper left')\n",
        "plt.show()"
      ],
      "execution_count": null,
      "outputs": []
    },
    {
      "cell_type": "code",
      "metadata": {
        "id": "UHQytNiA4tAB",
        "colab_type": "code",
        "colab": {}
      },
      "source": [
        "#create pie charts of the data\n",
        "\n",
        "df_can['Total_count'].plot(kind='pie',\n",
        "                           figsize=(10,10),\n",
        "                           )"
      ],
      "execution_count": null,
      "outputs": []
    },
    {
      "cell_type": "code",
      "metadata": {
        "id": "4mWzQ2V78pGL",
        "colab_type": "code",
        "colab": {}
      },
      "source": [
        "# plot pie chart of dev status \n",
        "\n",
        "df_devstatus = df_can.groupby(by='Development-status', axis='index').sum()\n",
        "\n",
        "df_devstatus.head()\n",
        "\n",
        "\n",
        "df_devstatus['Total_count'].plot(\n",
        "    kind='pie',\n",
        "    figsize=(15,15),\n",
        "    startangle=90,\n",
        "    autopct='%1.1f%%',\n",
        "    shadow=False,\n",
        "    labels=None\n",
        ")\n",
        "\n",
        "plt.title('Immigration from 1980-2013 by developing status')\n",
        "plt.axis('equal') #pie chart looks like a circle\n",
        "plt.legend(labels=df_devstatus.index, loc='upper left')\n",
        "plt.show()"
      ],
      "execution_count": null,
      "outputs": []
    },
    {
      "cell_type": "code",
      "metadata": {
        "id": "r5JoiNCs9eo6",
        "colab_type": "code",
        "colab": {}
      },
      "source": [
        "# plot pie chart of dev status \n",
        "\n",
        "\n",
        "\n",
        "colorlist = ['gold', 'lightgreen']\n",
        "explodelist = [0,0.1]\n",
        "\n",
        "\n",
        "df_devstatus['Total_count'].plot(\n",
        "    kind='pie',\n",
        "    figsize=(15,15),\n",
        "    startangle=90,\n",
        "    autopct='%1.1f%%',\n",
        "    shadow=False,\n",
        "    labels=None,\n",
        "    colors=colorlist,\n",
        "    explode=explodelist\n",
        ")\n",
        "\n",
        "plt.title('Immigration from 1980-2013 by developing status')\n",
        "plt.axis('equal') #pie chart looks like a circle\n",
        "plt.legend(labels=df_devstatus.index, loc='upper left')\n",
        "plt.show()"
      ],
      "execution_count": null,
      "outputs": []
    }
  ]
}